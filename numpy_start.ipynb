{
 "cells": [
  {
   "cell_type": "markdown",
   "id": "77ba321b-4b5f-490f-8099-e9d1f0b1f304",
   "metadata": {},
   "source": [
    " ## Introduction to Numerical Python (numpy)"
   ]
  },
  {
   "cell_type": "code",
   "execution_count": 2,
   "id": "dea3b28c-46db-40f1-92fc-6922b324e727",
   "metadata": {},
   "outputs": [],
   "source": [
    "import numpy as np"
   ]
  },
  {
   "cell_type": "code",
   "execution_count": 3,
   "id": "ed4086e9-3bcc-41c3-a150-adcf989c3632",
   "metadata": {},
   "outputs": [],
   "source": [
    "# Creating a array\n",
    "x = np.array([3, 4, 5])\n",
    "y = np.array([6, 7, 8])"
   ]
  },
  {
   "cell_type": "code",
   "execution_count": 4,
   "id": "86170f9c-be82-4294-acdc-181d16613ed2",
   "metadata": {},
   "outputs": [
    {
     "data": {
      "text/plain": [
       "array([ 9, 11, 13])"
      ]
     },
     "execution_count": 4,
     "metadata": {},
     "output_type": "execute_result"
    }
   ],
   "source": [
    "x + y #Unlike default python lists numpy array can do operations inside the array"
   ]
  },
  {
   "cell_type": "code",
   "execution_count": 5,
   "id": "8821e0f4-971b-40ea-82ea-1754ab99d7a9",
   "metadata": {},
   "outputs": [
    {
     "data": {
      "text/plain": [
       "array([3, 4, 5])"
      ]
     },
     "execution_count": 5,
     "metadata": {},
     "output_type": "execute_result"
    }
   ],
   "source": [
    "x"
   ]
  },
  {
   "cell_type": "code",
   "execution_count": 6,
   "id": "333137b3-bc23-4af4-b312-a1dcd3a084dd",
   "metadata": {},
   "outputs": [
    {
     "name": "stdout",
     "output_type": "stream",
     "text": [
      "[3 4 5]\n"
     ]
    }
   ],
   "source": [
    "print(x)"
   ]
  },
  {
   "cell_type": "code",
   "execution_count": 16,
   "id": "a610bd94-fca6-4b70-b122-27f41c124c5b",
   "metadata": {},
   "outputs": [
    {
     "data": {
      "text/plain": [
       "array([[1, 2, 3],\n",
       "       [4, 5, 6]])"
      ]
     },
     "execution_count": 16,
     "metadata": {},
     "output_type": "execute_result"
    }
   ],
   "source": [
    "# To create matrices we can use 2D array and numpys matix attribute\n",
    "mat = np.array([[1,2,3], [4,5,6]])\n",
    "mat"
   ]
  },
  {
   "cell_type": "code",
   "execution_count": 9,
   "id": "0b9cb4b7-8550-4217-a524-78cbd282a666",
   "metadata": {},
   "outputs": [
    {
     "data": {
      "text/plain": [
       "12"
      ]
     },
     "execution_count": 9,
     "metadata": {},
     "output_type": "execute_result"
    }
   ],
   "source": [
    "np.sum(x)"
   ]
  },
  {
   "cell_type": "code",
   "execution_count": 14,
   "id": "df4f70bf-2300-4f85-af60-948371c84ea0",
   "metadata": {},
   "outputs": [],
   "source": [
    "# numpys reshape function can be used to change the dimentions of an array\n",
    "z = np.array([1, 2, 3, 4, 5, 6, 7, 8])\n",
    "z_reshaped = z.reshape((2, 4))"
   ]
  },
  {
   "cell_type": "code",
   "execution_count": 15,
   "id": "a7b30ff5-6108-48a5-a7d9-8f6531a18163",
   "metadata": {},
   "outputs": [
    {
     "data": {
      "text/plain": [
       "array([[1, 2, 3, 4],\n",
       "       [5, 6, 7, 8]])"
      ]
     },
     "execution_count": 15,
     "metadata": {},
     "output_type": "execute_result"
    }
   ],
   "source": [
    "z_reshaped"
   ]
  },
  {
   "cell_type": "code",
   "execution_count": 20,
   "id": "db1a8378-c452-493c-8904-8f17adfe01df",
   "metadata": {},
   "outputs": [
    {
     "data": {
      "text/plain": [
       "array([ 0.30046751,  0.58710888,  0.81211357,  1.22086547,  1.81776127,\n",
       "       -1.15990998,  1.6372897 , -0.84495157,  0.98495996,  1.20678342,\n",
       "       -0.14986883, -0.26487465,  2.27766186, -1.15040163,  1.58739202,\n",
       "        1.46850922,  1.9607634 ,  1.22872916,  0.58023844,  1.07977554,\n",
       "        2.02362393,  2.8100132 ,  1.99327752,  1.50156863,  1.36894456,\n",
       "        2.92749975,  0.85388949,  2.07097705,  0.78337419,  0.67718289,\n",
       "        1.23909071,  2.35878082,  2.72988678,  1.27852174,  1.75872598,\n",
       "        2.63396031,  3.10419869,  0.09578906,  1.06139785,  1.97104459,\n",
       "       -0.38856908,  0.40781152,  0.29389121,  1.21665879,  1.68622294,\n",
       "        0.33904652,  0.54421214,  2.28455609,  2.35244838, -0.12015455,\n",
       "        2.02779584,  1.84857274, -0.34066501,  0.17522038,  1.69585491,\n",
       "        0.10807906,  1.04541607, -0.67655753,  1.26321918,  0.75959821,\n",
       "        1.39764836,  2.08865313,  2.85515601,  0.54664665, -0.94391001,\n",
       "        1.10506568,  2.93956536,  1.25801122,  2.7111622 ,  3.23353289,\n",
       "       -0.24259991,  2.4196773 ,  1.31339215,  1.76948752,  1.50416393,\n",
       "        0.05762958,  2.01886968, -0.46798236,  1.31298785, -1.04381994,\n",
       "        0.0870621 , -0.63111451,  1.41053789,  0.02808309,  0.41236341,\n",
       "       -0.00505889,  2.02622848,  0.81098971,  1.89119201,  2.50042255,\n",
       "        0.8855343 , -0.19386432,  0.3107504 ,  1.11780354,  0.2717382 ,\n",
       "        1.5199093 ,  0.75116118, -0.30996278,  2.27121458,  0.39176978])"
      ]
     },
     "execution_count": 20,
     "metadata": {},
     "output_type": "execute_result"
    }
   ],
   "source": [
    "# Like R np can generate random values of distributions \n",
    "random_normal_numbers = np.random.normal(1, 1, 100) # loc = mean scale = Standard Deviation  \n",
    "random_normal_numbers"
   ]
  },
  {
   "cell_type": "code",
   "execution_count": null,
   "id": "05460326-0129-4961-b1e9-5b2b92ede36e",
   "metadata": {},
   "outputs": [],
   "source": []
  }
 ],
 "metadata": {
  "kernelspec": {
   "display_name": "Python 3 (ipykernel)",
   "language": "python",
   "name": "python3"
  },
  "language_info": {
   "codemirror_mode": {
    "name": "ipython",
    "version": 3
   },
   "file_extension": ".py",
   "mimetype": "text/x-python",
   "name": "python",
   "nbconvert_exporter": "python",
   "pygments_lexer": "ipython3",
   "version": "3.11.9"
  }
 },
 "nbformat": 4,
 "nbformat_minor": 5
}
